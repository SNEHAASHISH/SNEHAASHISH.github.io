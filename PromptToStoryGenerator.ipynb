{
 "cells": [
  {
   "cell_type": "code",
   "execution_count": 3,
   "id": "ce6f5e52",
   "metadata": {},
   "outputs": [],
   "source": [
    "import os\n",
    "import openai"
   ]
  },
  {
   "cell_type": "code",
   "execution_count": 2,
   "id": "19550ca1",
   "metadata": {},
   "outputs": [
    {
     "name": "stdout",
     "output_type": "stream",
     "text": [
      "Collecting openai\n",
      "  Using cached openai-0.27.2-py3-none-any.whl (70 kB)\n",
      "Requirement already satisfied: tqdm in c:\\users\\lenovo\\appdata\\local\\programs\\python\\python310\\lib\\site-packages (from openai) (4.65.0)\n",
      "Requirement already satisfied: requests>=2.20 in c:\\users\\lenovo\\appdata\\local\\programs\\python\\python310\\lib\\site-packages (from openai) (2.28.2)\n",
      "Collecting aiohttp\n",
      "  Downloading aiohttp-3.8.4-cp310-cp310-win_amd64.whl (319 kB)\n",
      "     ---------------------------------------- 0.0/319.8 kB ? eta -:--:--\n",
      "     --- ----------------------------------- 30.7/319.8 kB 1.4 MB/s eta 0:00:01\n",
      "     ----- ------------------------------- 51.2/319.8 kB 440.4 kB/s eta 0:00:01\n",
      "     ------------ ----------------------- 112.6/319.8 kB 819.2 kB/s eta 0:00:01\n",
      "     ----------------------- -------------- 194.6/319.8 kB 1.1 MB/s eta 0:00:01\n",
      "     --------------------------- ---------- 235.5/319.8 kB 1.1 MB/s eta 0:00:01\n",
      "     -------------------------------------- 319.8/319.8 kB 1.2 MB/s eta 0:00:00\n",
      "Requirement already satisfied: certifi>=2017.4.17 in c:\\users\\lenovo\\appdata\\local\\programs\\python\\python310\\lib\\site-packages (from requests>=2.20->openai) (2022.12.7)\n",
      "Requirement already satisfied: urllib3<1.27,>=1.21.1 in c:\\users\\lenovo\\appdata\\local\\programs\\python\\python310\\lib\\site-packages (from requests>=2.20->openai) (1.26.15)\n",
      "Requirement already satisfied: idna<4,>=2.5 in c:\\users\\lenovo\\appdata\\local\\programs\\python\\python310\\lib\\site-packages (from requests>=2.20->openai) (3.4)\n",
      "Requirement already satisfied: charset-normalizer<4,>=2 in c:\\users\\lenovo\\appdata\\local\\programs\\python\\python310\\lib\\site-packages (from requests>=2.20->openai) (3.1.0)\n",
      "Collecting async-timeout<5.0,>=4.0.0a3\n",
      "  Using cached async_timeout-4.0.2-py3-none-any.whl (5.8 kB)\n",
      "Collecting aiosignal>=1.1.2\n",
      "  Using cached aiosignal-1.3.1-py3-none-any.whl (7.6 kB)\n",
      "Collecting multidict<7.0,>=4.5\n",
      "  Downloading multidict-6.0.4-cp310-cp310-win_amd64.whl (28 kB)\n",
      "Collecting frozenlist>=1.1.1\n",
      "  Downloading frozenlist-1.3.3-cp310-cp310-win_amd64.whl (33 kB)\n",
      "Collecting yarl<2.0,>=1.0\n",
      "  Downloading yarl-1.8.2-cp310-cp310-win_amd64.whl (56 kB)\n",
      "     ---------------------------------------- 0.0/56.1 kB ? eta -:--:--\n",
      "     ---------------------------------------- 56.1/56.1 kB 2.9 MB/s eta 0:00:00\n",
      "Requirement already satisfied: attrs>=17.3.0 in c:\\users\\lenovo\\appdata\\local\\programs\\python\\python310\\lib\\site-packages (from aiohttp->openai) (22.2.0)\n",
      "Requirement already satisfied: colorama in c:\\users\\lenovo\\appdata\\local\\programs\\python\\python310\\lib\\site-packages (from tqdm->openai) (0.4.6)\n",
      "Installing collected packages: multidict, frozenlist, async-timeout, yarl, aiosignal, aiohttp, openai\n",
      "Successfully installed aiohttp-3.8.4 aiosignal-1.3.1 async-timeout-4.0.2 frozenlist-1.3.3 multidict-6.0.4 openai-0.27.2 yarl-1.8.2\n"
     ]
    }
   ],
   "source": [
    "!pip install openai"
   ]
  },
  {
   "cell_type": "code",
   "execution_count": 4,
   "id": "5bc001be",
   "metadata": {},
   "outputs": [],
   "source": [
    "openai.api_key = os.getenv('OPEN_API_KEY')"
   ]
  },
  {
   "cell_type": "code",
   "execution_count": 6,
   "id": "35909239",
   "metadata": {},
   "outputs": [],
   "source": [
    "from git import Repo"
   ]
  },
  {
   "cell_type": "code",
   "execution_count": 7,
   "id": "73998008",
   "metadata": {},
   "outputs": [],
   "source": [
    "from pathlib import Path"
   ]
  },
  {
   "cell_type": "code",
   "execution_count": 8,
   "id": "fb5ff267",
   "metadata": {},
   "outputs": [
    {
     "data": {
      "text/plain": [
       "'C:\\\\Users\\\\Lenovo\\\\Documents\\\\GitHub\\\\SNEHAASHISH.github.io'"
      ]
     },
     "execution_count": 8,
     "metadata": {},
     "output_type": "execute_result"
    }
   ],
   "source": [
    "pwd"
   ]
  },
  {
   "cell_type": "code",
   "execution_count": 22,
   "id": "6818e464",
   "metadata": {},
   "outputs": [],
   "source": [
    "PATH_TO_STORY_REPO = Path(\"C:\\\\Users\\\\Lenovo\\\\Documents\\\\GitHub\\\\SNEHAASHISH.github.io\\\\.git\")"
   ]
  },
  {
   "cell_type": "code",
   "execution_count": 23,
   "id": "9f3fb33c",
   "metadata": {},
   "outputs": [],
   "source": [
    "PATH_TO_STORY = PATH_TO_STORY_REPO.parent"
   ]
  },
  {
   "cell_type": "code",
   "execution_count": 24,
   "id": "1f6214d7",
   "metadata": {},
   "outputs": [],
   "source": [
    "PATH_TO_CONTENT = PATH_TO_STORY/\"content\""
   ]
  },
  {
   "cell_type": "code",
   "execution_count": 25,
   "id": "84a68dfd",
   "metadata": {},
   "outputs": [
    {
     "data": {
      "text/plain": [
       "WindowsPath('C:/Users/Lenovo/Documents/GitHub/SNEHAASHISH.github.io/content')"
      ]
     },
     "execution_count": 25,
     "metadata": {},
     "output_type": "execute_result"
    }
   ],
   "source": [
    "PATH_TO_CONTENT"
   ]
  },
  {
   "cell_type": "code",
   "execution_count": 26,
   "id": "3d8684fd",
   "metadata": {},
   "outputs": [],
   "source": [
    "PATH_TO_CONTENT.mkdir(exist_ok=True, parents=True)"
   ]
  },
  {
   "cell_type": "code",
   "execution_count": 28,
   "id": "8e36eb78",
   "metadata": {},
   "outputs": [],
   "source": [
    "def update_story(commit_msg='Upades story'):\n",
    "    repo = Repo(PATH_TO_STORY_REPO)\n",
    "    #git add .\n",
    "    repo.git.add(all=True)\n",
    "    #git commit -m \"updates story\"\n",
    "    repo.index.commit(commit_msg)\n",
    "    #git push\n",
    "    origin = repo.remote(name='origin')\n",
    "    origin.push()"
   ]
  },
  {
   "cell_type": "code",
   "execution_count": 29,
   "id": "81f6dc9d",
   "metadata": {},
   "outputs": [],
   "source": [
    "random_text_string = \"wfarfwvwfnjlvbwefcnwbjvwlfhbejedcbhrvblf\""
   ]
  },
  {
   "cell_type": "code",
   "execution_count": 30,
   "id": "a9584363",
   "metadata": {},
   "outputs": [],
   "source": [
    "with open(PATH_TO_STORY/\"index.html\",\"w\") as f:\n",
    "    f.write(random_text_string)"
   ]
  },
  {
   "cell_type": "code",
   "execution_count": 31,
   "id": "602914c5",
   "metadata": {},
   "outputs": [],
   "source": [
    "update_story()"
   ]
  },
  {
   "cell_type": "code",
   "execution_count": 32,
   "id": "648a5c6a",
   "metadata": {},
   "outputs": [],
   "source": [
    "import shutil\n",
    "def create_new_story(title,content,cover_img):\n",
    "    cover_img = Path(cover_img)\n",
    "    \n",
    "    files = len(list(PATH_TO_CONTENT.glob(\"*.html\")))\n",
    "    new_title = f\"{files+1}.html\"\n",
    "    path_to_new_content = PATH_TO_CONTENT/new_title\n",
    "    \n",
    "    shutil.copy(cover_img,PATH_TO_CONTENT)\n",
    "    \n",
    "    if not os.path.exists(path_to_new_content):\n",
    "        #WRITE A NEW HTML FILE\n",
    "        with open(path_to_new_content,\"w\") as f:\n",
    "            f.write('<!DOCTYPE HTML> \\n')\n",
    "            f.write(\"<html>\\n\")\n",
    "            f.write(\"<head>\\n\")\n",
    "            f.write(f\"<title> {title} </title>\\n\")\n",
    "            f.write(\"</head>\")\n",
    "            f.write(\"<body>\")\n",
    "            f.write(f\"<img src='{cover_img.name}' alt='Cover Image'> <br/>\\n\")\n",
    "            f.write(f\"<h1> {title} </h1>\")\n",
    "            f.write(content.replace(\"\\n\",\"<br/>\\n\"))\n",
    "            f.write(\"</body>\\n\")\n",
    "            f.write(\"</html>\\n\")\n",
    "            print(\"Story Created\")\n",
    "            return path_to_new_content\n",
    "    else:\n",
    "        raise FileExistsError(\"File Already Exists, please check again ur name! ABORTING!\")"
   ]
  },
  {
   "cell_type": "code",
   "execution_count": 34,
   "id": "26ab0dd1",
   "metadata": {},
   "outputs": [
    {
     "name": "stdout",
     "output_type": "stream",
     "text": [
      "Story Created\n"
     ]
    }
   ],
   "source": [
    "path_to_new_content = create_new_story('Test_Title','weweccwwecwr','coconut-tree.png')"
   ]
  },
  {
   "cell_type": "code",
   "execution_count": 35,
   "id": "b0d14ea2",
   "metadata": {},
   "outputs": [],
   "source": [
    "# index.html --> Stories"
   ]
  },
  {
   "cell_type": "code",
   "execution_count": 36,
   "id": "57112749",
   "metadata": {},
   "outputs": [],
   "source": [
    "from bs4 import BeautifulSoup as Soup"
   ]
  },
  {
   "cell_type": "code",
   "execution_count": 37,
   "id": "6b23d0ff",
   "metadata": {},
   "outputs": [],
   "source": [
    "with open(PATH_TO_STORY/\"index.html\") as index:\n",
    "    soup = Soup(index.read())"
   ]
  },
  {
   "cell_type": "code",
   "execution_count": 38,
   "id": "39b3b337",
   "metadata": {},
   "outputs": [
    {
     "data": {
      "text/plain": [
       "'wfarfwvwfnjlvbwefcnwbjvwlfhbejedcbhrvblf'"
      ]
     },
     "execution_count": 38,
     "metadata": {},
     "output_type": "execute_result"
    }
   ],
   "source": [
    "str(soup)"
   ]
  },
  {
   "cell_type": "code",
   "execution_count": null,
   "id": "9409a920",
   "metadata": {},
   "outputs": [],
   "source": []
  }
 ],
 "metadata": {
  "kernelspec": {
   "display_name": "Python 3 (ipykernel)",
   "language": "python",
   "name": "python3"
  },
  "language_info": {
   "codemirror_mode": {
    "name": "ipython",
    "version": 3
   },
   "file_extension": ".py",
   "mimetype": "text/x-python",
   "name": "python",
   "nbconvert_exporter": "python",
   "pygments_lexer": "ipython3",
   "version": "3.10.10"
  }
 },
 "nbformat": 4,
 "nbformat_minor": 5
}
